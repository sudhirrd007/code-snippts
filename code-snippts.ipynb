{
 "cells": [
  {
   "cell_type": "markdown",
   "metadata": {
    "toc-hr-collapsed": true,
    "toc-nb-collapsed": true
   },
   "source": [
    "# jupyterthemes"
   ]
  },
  {
   "cell_type": "code",
   "execution_count": 1,
   "metadata": {
    "execution": {
     "iopub.execute_input": "2020-11-13T08:33:32.448056Z",
     "iopub.status.busy": "2020-11-13T08:33:32.448056Z",
     "iopub.status.idle": "2020-11-13T08:33:32.520859Z",
     "shell.execute_reply": "2020-11-13T08:33:32.519861Z",
     "shell.execute_reply.started": "2020-11-13T08:33:32.448056Z"
    }
   },
   "outputs": [],
   "source": [
    "from jupyterthemes import jtplot\n",
    "# jtplot.style(theme=’monokai’, context=’notebook’, ticks=True, grid=False)"
   ]
  },
  {
   "cell_type": "markdown",
   "metadata": {
    "heading_collapsed": true,
    "toc-hr-collapsed": true,
    "toc-nb-collapsed": true
   },
   "source": [
    "# Classification Model Evaluation"
   ]
  },
  {
   "cell_type": "code",
   "execution_count": 4,
   "metadata": {
    "execution": {
     "iopub.execute_input": "2020-11-12T14:08:16.678693Z",
     "iopub.status.busy": "2020-11-12T14:08:16.678693Z",
     "iopub.status.idle": "2020-11-12T14:08:16.692688Z",
     "shell.execute_reply": "2020-11-12T14:08:16.692688Z",
     "shell.execute_reply.started": "2020-11-12T14:08:16.678693Z"
    },
    "hidden": true
   },
   "outputs": [],
   "source": [
    "# Precision = TP / (TP + FP)\n",
    "# Recall = TP / (TP + FN) = True Positive Rate(TPR)\n",
    "# False Positive Rate(FPR) = FP / (FP + TN)\n",
    "# f1-score = 2 * (Precision * recall) / (precision + recall)\n",
    "\n",
    "from sklearn import metrics"
   ]
  },
  {
   "cell_type": "code",
   "execution_count": null,
   "metadata": {
    "hidden": true
   },
   "outputs": [],
   "source": [
    "# accuracy score\n",
    "metrics.accuracy_score(Y_test, pred)"
   ]
  },
  {
   "cell_type": "code",
   "execution_count": null,
   "metadata": {
    "hidden": true
   },
   "outputs": [],
   "source": [
    "# confusion matrix\n",
    "\n",
    "### convert confusion matrix to heatmap\n",
    "def confusion_heatmap(Y_test, pred, name_mapping=None):\n",
    "    labels=Y_test.unique()\n",
    "    cm = metrics.confusion_matrix(Y_test, pred, labels=labels)\n",
    "\n",
    "    mapping = []\n",
    "    if(name_mapping):\n",
    "        mapping = [name_mapping[l] for l in labels]\n",
    "    else:\n",
    "        mapping = labels\n",
    "        \n",
    "    sns.heatmap(cm, annot=True,  fmt='d', cmap=\"Blues\", xticklabels = mapping , yticklabels = mapping,)\n",
    "    plt.ylabel('True label',fontsize=12)\n",
    "    plt.xlabel('Predicted label',fontsize=12)\n",
    "    plt.show()\n",
    "# name_mapping = {0:\"No\", 1:\"Yes\"}\n",
    "# confusion_heatmap(Y_test, pred, name_mapping)"
   ]
  },
  {
   "cell_type": "code",
   "execution_count": 6,
   "metadata": {
    "execution": {
     "iopub.execute_input": "2020-11-12T14:41:58.219363Z",
     "iopub.status.busy": "2020-11-12T14:41:58.219363Z",
     "iopub.status.idle": "2020-11-12T14:41:58.222356Z",
     "shell.execute_reply": "2020-11-12T14:41:58.222356Z",
     "shell.execute_reply.started": "2020-11-12T14:41:58.219363Z"
    },
    "hidden": true
   },
   "outputs": [],
   "source": [
    "# classification report\n",
    "def clf_report(Y_test, pred):\n",
    "    clf_report = pd.DataFrame(metrics.classification_report(Y_test, pred, output_dict=True)).T\n",
    "    clf_report[\"support\"][\"accuracy\"] = clf_report.iloc[0,-1]\n",
    "\n",
    "    def fn(x):\n",
    "        return int(x) if(x%1 == 0) else \"{:.2f}\".format(x)\n",
    "    return clf_report.style.format(fn)\n",
    "# clf_report(Y_test, pred)"
   ]
  },
  {
   "cell_type": "code",
   "execution_count": 8,
   "metadata": {
    "execution": {
     "iopub.execute_input": "2020-11-12T15:28:46.458619Z",
     "iopub.status.busy": "2020-11-12T15:28:46.458619Z",
     "iopub.status.idle": "2020-11-12T15:28:46.461609Z",
     "shell.execute_reply": "2020-11-12T15:28:46.461609Z",
     "shell.execute_reply.started": "2020-11-12T15:28:46.458619Z"
    },
    "hidden": true
   },
   "outputs": [],
   "source": [
    "# AUC/ROC Score\n",
    "metrics.roc_auc_score(Y_test, pred)\n",
    "\n",
    "# AUC/ROC Curve\n",
    "def auc_roc_curve(Y_test, pred):\n",
    "    fpr, tpr, threshold = metrics.roc_curve(Y_test, pred)\n",
    "    roc_auc = metrics.auc(fpr, tpr)\n",
    "\n",
    "    plt.title('AUC/ROC Curve')\n",
    "    label = \"ROC score (area = {:.3f})\".format(metrics.roc_auc_score(Y_test, pred))\n",
    "    plt.plot(fpr, tpr, 'b', label=label)\n",
    "    plt.legend(loc = 'lower right')\n",
    "    plt.plot([0, 1], [0, 1],'r--')\n",
    "    plt.xlim([0, 1])\n",
    "    plt.ylim([0, 1])\n",
    "    plt.ylabel('True Positive Rate')\n",
    "    plt.xlabel('False Positive Rate')\n",
    "    plt.show()\n",
    "# auc_roc_curve(Y_test, pred)"
   ]
  },
  {
   "cell_type": "code",
   "execution_count": 10,
   "metadata": {
    "execution": {
     "iopub.execute_input": "2020-11-12T15:38:18.031386Z",
     "iopub.status.busy": "2020-11-12T15:38:18.031386Z",
     "iopub.status.idle": "2020-11-12T15:38:18.035410Z",
     "shell.execute_reply": "2020-11-12T15:38:18.035410Z",
     "shell.execute_reply.started": "2020-11-12T15:38:18.031386Z"
    },
    "hidden": true
   },
   "outputs": [],
   "source": [
    "# log-loss\n",
    "metrics.log_loss(Y_test, pred)"
   ]
  },
  {
   "cell_type": "code",
   "execution_count": 11,
   "metadata": {
    "execution": {
     "iopub.execute_input": "2020-11-12T15:47:40.094463Z",
     "iopub.status.busy": "2020-11-12T15:47:40.093466Z",
     "iopub.status.idle": "2020-11-12T15:47:40.112647Z",
     "shell.execute_reply": "2020-11-12T15:47:40.111682Z",
     "shell.execute_reply.started": "2020-11-12T15:47:40.094463Z"
    },
    "hidden": true
   },
   "outputs": [],
   "source": [
    "### classification result dataframe\n",
    "def clf_dataframe(knn, X_test, Y_test, pred):\n",
    "    pred_prob = pd.DataFrame(knn.predict_proba(X_test), index=X_test.index)\n",
    "    pred = pd.Series(pred, index=X_test.index)\n",
    "\n",
    "    predictions = pd.concat([Y_test, pred, pred_prob], axis=1)\n",
    "    predictions.columns = [\"actual\", \"prediction\", \"0\", \"1\"]\n",
    "    return predictions\n",
    "# dataframe = clf_dataframe(knn, X_test, Y_test, pred)\n",
    "#>>> dataframe[(dataframe[\"Actual\"] == 1) & (dataframe[\"new_prediction\"] == 0)]\n",
    "\n",
    "\n",
    "### classification result dataframe with \"new_prediction\" column\n",
    "def clf_dataframe(knn, X_test, Y_test, pred):\n",
    "    pred_prob = pd.DataFrame(knn.predict_proba(X_test), index=X_test.index)\n",
    "    pred = pd.Series(pred, index=X_test.index)\n",
    "\n",
    "    predictions = pd.concat([Y_test, pred, pred_prob], axis=1)\n",
    "    predictions.columns = [\"actual\", \"prediction\", \"0\", \"1\"]\n",
    "    predictions['new_prediction'] = predictions['0'].map(lambda x: 0 if x >= 0.6 else 1)\n",
    "    return predictions\n",
    "# dataframe = clf_dataframe(knn, X_test, Y_test, pred)\n",
    "#>>> dataframe[(dataframe[\"Actual\"] == 1) & (dataframe[\"new_prediction\"] == 0)]"
   ]
  },
  {
   "cell_type": "markdown",
   "metadata": {
    "heading_collapsed": true,
    "toc-hr-collapsed": true,
    "toc-nb-collapsed": true
   },
   "source": [
    "# Knn"
   ]
  },
  {
   "cell_type": "markdown",
   "metadata": {
    "hidden": true
   },
   "source": [
    "## Important"
   ]
  },
  {
   "cell_type": "code",
   "execution_count": 2,
   "metadata": {
    "execution": {
     "iopub.execute_input": "2020-11-10T13:39:33.680079Z",
     "iopub.status.busy": "2020-11-10T13:39:33.680079Z",
     "iopub.status.idle": "2020-11-10T13:39:33.700028Z",
     "shell.execute_reply": "2020-11-10T13:39:33.700028Z",
     "shell.execute_reply.started": "2020-11-10T13:39:33.680079Z"
    },
    "hidden": true
   },
   "outputs": [],
   "source": [
    "from sklearn.neighbors import KNeighborsClassifier\n",
    "from sklearn.model_selection import cross_val_score\n",
    "\n",
    "### it calculate different metrics on different numbers of k values\n",
    "def dist_metrics(metrics=None, ks=None):\n",
    "    \n",
    "    if(not metrics):\n",
    "        metrics = ['canberra', 'braycurtis', 'chebyshev', 'correlation', 'dice', 'hamming', 'jaccard', 'kulsinski', 'minkowski', 'rogerstanimoto', 'russellrao', 'sokalmichener', 'sokalsneath', 'sqeuclidean']\n",
    "    if(not ks):\n",
    "        ks = [v for v in range(5,80,2)]\n",
    "        \n",
    "    final = {\"k\":ks}\n",
    "\n",
    "    for m in tqdm(metrics):\n",
    "        final[m] = []\n",
    "        for k in ks:\n",
    "            knn = KNeighborsClassifier(k, metric=m);\n",
    "            scores = cross_val_score(knn, X, Y, cv=4)\n",
    "            final[m].append(scores.mean())\n",
    "    return pd.DataFrame(final)\n",
    "# final = dist_metrics(X, Y)\n",
    "\n",
    "#>>> final.mean(axis=0)\n",
    "\n",
    "\n",
    "### It show line graph, comparing different metrics in the context of different score \n",
    "# acording to k values\n",
    "def show_metrics(final):\n",
    "    colors = np.random.rand(1, 4)\n",
    "\n",
    "    for d in final.columns.drop(\"k\"):\n",
    "        plt.plot(np.arange(38), final[d], label=d)\n",
    "\n",
    "    plt.legend(bbox_to_anchor=(1, 1), fancybox=True, shadow=True)\n",
    "    plt.show();\n",
    "# show_metrics(final)"
   ]
  },
  {
   "cell_type": "code",
   "execution_count": null,
   "metadata": {
    "hidden": true
   },
   "outputs": [],
   "source": [
    "from sklearn.neighbors import KNeighborsClassifier\n",
    "from sklearn.model_selection import train_test_split\n",
    "\n",
    "### if calculate optimal value of k(from given list of k) for each random state(\n",
    "# from given list of random state)\n",
    "def random_state_wise_k(X, Y, random_state=None, ks=None, metric=\"canberra\"):\n",
    "    if(not random_state):\n",
    "        random_state = [s for s in range(100)]\n",
    "\n",
    "    final = {\"random_state\": random_state, \"k\":[], \"score\":[]}\n",
    "    ks = [k for k in range(5,80,2)]\n",
    "\n",
    "    for r in tqdm(random_state):\n",
    "        X_train, X_test, Y_train, Y_test = train_test_split(X, Y, test_size=1/3, random_state=r);\n",
    "        scores = []\n",
    "        for k in ks:\n",
    "            knn = KNeighborsClassifier(n_neighbors=k, metric=metric);\n",
    "            knn.fit(X_train, Y_train);\n",
    "            scores.append(knn.score(X_test, Y_test))\n",
    "        final[\"k\"].append(ks[scores.index(max(scores))])\n",
    "        final[\"score\"].append(max(scores))\n",
    "    final = pd.DataFrame(final).sort_values(by=\"score\", ascending=False)\n",
    "    return final\n",
    "# final = random_state_wise_k(X, Y)\n",
    "\n",
    "#>>> final.k.value_counts()"
   ]
  },
  {
   "cell_type": "code",
   "execution_count": 3,
   "metadata": {
    "execution": {
     "iopub.execute_input": "2020-11-10T14:05:43.412638Z",
     "iopub.status.busy": "2020-11-10T14:05:43.411642Z",
     "iopub.status.idle": "2020-11-10T14:05:43.420617Z",
     "shell.execute_reply": "2020-11-10T14:05:43.419621Z",
     "shell.execute_reply.started": "2020-11-10T14:05:43.411642Z"
    },
    "hidden": true
   },
   "outputs": [],
   "source": [
    "from sklearn.neighbors import KNeighborsClassifier\n",
    "from sklearn.model_selection import train_test_split\n",
    "\n",
    "### It will calculate score of every givn k values for every given random state\n",
    "def k_wise_scores(X, Y, ks=None, metric=\"canberra\"):\n",
    "    if(not ks):\n",
    "        ks = [k for k in range(5,80,2)]\n",
    "\n",
    "    final = {}\n",
    "    for k in ks:\n",
    "        final[k] = []\n",
    "\n",
    "    for r in tqdm(range(100)):\n",
    "        X_train, X_test, Y_train, Y_test = train_test_split(X, Y, test_size=1/3, random_state=r);\n",
    "        for k in ks:\n",
    "            knn = KNeighborsClassifier(n_neighbors=k, metric=metric);\n",
    "            knn.fit(X_train, Y_train);\n",
    "            final[k].append(knn.score(X_test, Y_test))\n",
    "    final = pd.DataFrame(final)\n",
    "    return final\n",
    "# final = k_wise_scores(X, Y)\n",
    "\n",
    "\n",
    "### it extracts best k value from each k value columns\n",
    "def best_k_randomstate_match(final):\n",
    "    best_match = { \"score\":[], \"k\":[], \"random_state\":[]}\n",
    "\n",
    "    for i in final:\n",
    "        best_match[\"score\"].append(final[i].max())\n",
    "        best_match[\"k\"].append(i)\n",
    "        best_match[\"random_state\"].append(final[i].idxmax())\n",
    "\n",
    "    return pd.DataFrame(final_1).sort_values(by=\"score\", ascending=False)\n",
    "# best_match = best_k_randomstate_match(final)\n",
    "\n",
    "#>>> best_match.random_state.value_counts()"
   ]
  },
  {
   "cell_type": "markdown",
   "metadata": {
    "hidden": true
   },
   "source": [
    "## Outlier Detection"
   ]
  },
  {
   "cell_type": "code",
   "execution_count": null,
   "metadata": {
    "hidden": true
   },
   "outputs": [],
   "source": [
    "from sklearn.neighbors import LocalOutlierFactor\n",
    "\n",
    "### it calcute every point if it is outlier or not\n",
    "# 1 means inler and -1 means outlier\n",
    "def detect_outliers(X, k=20):\n",
    "    lof = LocalOutlierFactor(n_neighbors=20)\n",
    "    lof.fit(X)\n",
    "    inout_liers = lof.fit_predict(X)\n",
    "    inout_liers = pd.Series(inout_liers, index=X.index)\n",
    "    return inout_liers\n",
    "# inout_liers = detect_outliers(X)\n",
    "\n",
    "#>>> inout_liers.value_counts()\n",
    "\n",
    "#>>> inliers = inout_liers[inout_liers == 1]\n",
    "#>>> outliers = inout_liers[inout_liers == -1]\n",
    "#>>> data = data.loc[inliers.index]"
   ]
  },
  {
   "cell_type": "markdown",
   "metadata": {
    "hidden": true
   },
   "source": [
    "## user defined metrics"
   ]
  },
  {
   "cell_type": "code",
   "execution_count": null,
   "metadata": {
    "hidden": true
   },
   "outputs": [],
   "source": [
    "def calculate(X, Y):\n",
    "    return np.sum(np.subtract(X, Y)**6)\n",
    "\n",
    "#>>> knn = KNeighborsClassifier(n_neighbors=13, metric=calculate)"
   ]
  },
  {
   "cell_type": "markdown",
   "metadata": {
    "heading_collapsed": true,
    "toc-hr-collapsed": true,
    "toc-nb-collapsed": true
   },
   "source": [
    "# Oversampling and Undersampling"
   ]
  },
  {
   "cell_type": "code",
   "execution_count": 12,
   "metadata": {
    "execution": {
     "iopub.execute_input": "2020-11-12T17:03:26.669978Z",
     "iopub.status.busy": "2020-11-12T17:03:26.669978Z",
     "iopub.status.idle": "2020-11-12T17:03:26.688927Z",
     "shell.execute_reply": "2020-11-12T17:03:26.688927Z",
     "shell.execute_reply.started": "2020-11-12T17:03:26.669978Z"
    },
    "hidden": true
   },
   "outputs": [],
   "source": [
    "from sklearn.utils import resample\n",
    "\n",
    "def data_sampling(X_train, Y_train, sampling_type=None):\n",
    "    XY_train = pd.concat([X_train, Y_train], axis=1)\n",
    "    \n",
    "    XY_train_0 = XY_train[XY_train[\"Outcome\"] == 0]\n",
    "    XY_train_1 = XY_train[XY_train[\"Outcome\"] == 1]\n",
    "    \n",
    "    if(sampling_type == \"over\"):\n",
    "        XY_train_1_oversampled = resample(XY_train_1, n_samples=XY_train_0.shape[0], replace=True, random_state=0)\n",
    "        combined = pd.concat([XY_train_0, XY_train_1_oversampled])\n",
    "    elif(sampling_type == \"under\"):\n",
    "        XY_train_0_undersampled = resample(XY_train_0, n_samples=XY_train_1.shape[0], replace=True, random_state=0)\n",
    "        combined = pd.concat([XY_train_0_undersampled, XY_train_1])\n",
    "    else:\n",
    "        print(\"Provide {sampling_type} parameter\")\n",
    "    \n",
    "    X_train = combined.iloc[:, :-1]\n",
    "    Y_train = combined.iloc[:, -1]\n",
    "    return X_train, Y_train\n",
    "# X_train, Y_train = data_sampling(X_train, Y_train, sampling_type=\"over\")"
   ]
  },
  {
   "cell_type": "markdown",
   "metadata": {
    "heading_collapsed": true
   },
   "source": [
    "# Matplotlib"
   ]
  },
  {
   "cell_type": "markdown",
   "metadata": {
    "hidden": true
   },
   "source": [
    "## Styles available"
   ]
  },
  {
   "cell_type": "markdown",
   "metadata": {
    "hidden": true
   },
   "source": [
    " "
   ]
  },
  {
   "cell_type": "code",
   "execution_count": 1,
   "metadata": {
    "code_folding": [
     2
    ],
    "execution": {
     "iopub.execute_input": "2020-11-08T05:19:00.266444Z",
     "iopub.status.busy": "2020-11-08T05:19:00.265446Z",
     "iopub.status.idle": "2020-11-08T05:19:00.515398Z",
     "shell.execute_reply": "2020-11-08T05:19:00.514391Z",
     "shell.execute_reply.started": "2020-11-08T05:19:00.266444Z"
    },
    "hidden": true
   },
   "outputs": [],
   "source": [
    "import matplotlib.pyplot as plt\n",
    "plt.style.available\n",
    "['Solarize_Light2',\n",
    " '_classic_test_patch',\n",
    " 'bmh',\n",
    " 'classic',\n",
    " 'dark_background',\n",
    " 'fast',\n",
    " 'fivethirtyeight',\n",
    " 'ggplot',\n",
    " 'grayscale',\n",
    " 'seaborn',\n",
    " 'seaborn-bright',\n",
    " 'seaborn-colorblind',\n",
    " 'seaborn-dark',\n",
    " 'seaborn-dark-palette',\n",
    " 'seaborn-darkgrid',\n",
    " 'seaborn-deep',\n",
    " 'seaborn-muted',\n",
    " 'seaborn-notebook',\n",
    " 'seaborn-paper',\n",
    " 'seaborn-pastel',\n",
    " 'seaborn-poster',\n",
    " 'seaborn-talk',\n",
    " 'seaborn-ticks',\n",
    " 'seaborn-white',\n",
    " 'seaborn-whitegrid',\n",
    " 'tableau-colorblind10'];"
   ]
  },
  {
   "cell_type": "markdown",
   "metadata": {
    "hidden": true
   },
   "source": [
    "## Half Heatmap"
   ]
  },
  {
   "cell_type": "code",
   "execution_count": null,
   "metadata": {
    "hidden": true
   },
   "outputs": [],
   "source": [
    "corr = data.corr()\n",
    "mask = np.zeros_like(corr)\n",
    "mask[np.triu_indices_from(mask)] = True\n",
    "\n",
    "fig = plt.gcf()\n",
    "fig.set_size_inches(8, 5)\n",
    "sns.heatmap(corr, mask=mask, annot=True, cmap=\"coolwarm\", center=0, vmin=-1, vmax=1)"
   ]
  },
  {
   "cell_type": "markdown",
   "metadata": {
    "hidden": true
   },
   "source": [
    "## Bar chart"
   ]
  },
  {
   "cell_type": "code",
   "execution_count": 1,
   "metadata": {
    "hidden": true
   },
   "outputs": [],
   "source": [
    "def bar_chart(data):\n",
    "    unique = data.value_counts()\n",
    "\n",
    "    colors = np.random.rand(len(unique), 3)\n",
    "    fig = plt.gcf()\n",
    "    fig.set_size_inches(3, 4)\n",
    "\n",
    "    ax = unique.plot(kind='bar', fontsize=13, color=colors)\n",
    "    plt.ylim(0, data.shape[0])\n",
    "    plt.xticks(rotation=0, fontsize=15)\n",
    "\n",
    "    for p in ax.patches:\n",
    "        ax.annotate(str(p.get_height()), (p.get_x(), p.get_height()), size=15)\n",
    "    plt.show()"
   ]
  },
  {
   "cell_type": "markdown",
   "metadata": {
    "heading_collapsed": true,
    "toc-hr-collapsed": true,
    "toc-nb-collapsed": true
   },
   "source": [
    "# Multiline Output"
   ]
  },
  {
   "cell_type": "code",
   "execution_count": 1,
   "metadata": {
    "ExecuteTime": {
     "end_time": "2020-08-27T13:51:06.031440Z",
     "start_time": "2020-08-27T13:51:05.973093Z"
    },
    "code_folding": [],
    "execution": {
     "iopub.execute_input": "2020-10-26T13:35:09.238905Z",
     "iopub.status.busy": "2020-10-26T13:35:09.238905Z",
     "iopub.status.idle": "2020-10-26T13:35:09.254861Z",
     "shell.execute_reply": "2020-10-26T13:35:09.253863Z",
     "shell.execute_reply.started": "2020-10-26T13:35:09.238905Z"
    },
    "hidden": true
   },
   "outputs": [],
   "source": [
    "def MultiResults(flag=True):\n",
    "    from IPython.core.interactiveshell import InteractiveShell\n",
    "    InteractiveShell.ast_node_interactivity = \"all\" if flag==True else \"last_expr\"\n",
    "MultiResults(True)"
   ]
  },
  {
   "cell_type": "markdown",
   "metadata": {
    "heading_collapsed": true,
    "toc-hr-collapsed": true,
    "toc-nb-collapsed": true
   },
   "source": [
    "# Confirm Sound "
   ]
  },
  {
   "cell_type": "code",
   "execution_count": 7,
   "metadata": {
    "ExecuteTime": {
     "end_time": "2020-08-27T13:53:13.689334Z",
     "start_time": "2020-08-27T13:53:13.649235Z"
    },
    "code_folding": [],
    "execution": {
     "iopub.execute_input": "2020-10-26T13:36:50.109732Z",
     "iopub.status.busy": "2020-10-26T13:36:50.108734Z",
     "iopub.status.idle": "2020-10-26T13:36:52.797716Z",
     "shell.execute_reply": "2020-10-26T13:36:52.796718Z",
     "shell.execute_reply.started": "2020-10-26T13:36:50.109732Z"
    },
    "hidden": true
   },
   "outputs": [],
   "source": [
    "def complete_sound():\n",
    "    import winsound\n",
    "    duration = 500  # millisecond\n",
    "    freq = 800  # Hz\n",
    "    for i in range(5):\n",
    "        winsound.Beep(freq, duration)"
   ]
  },
  {
   "cell_type": "markdown",
   "metadata": {
    "heading_collapsed": true,
    "toc-hr-collapsed": true,
    "toc-nb-collapsed": true
   },
   "source": [
    "# Feature Correlation"
   ]
  },
  {
   "cell_type": "code",
   "execution_count": 4,
   "metadata": {
    "ExecuteTime": {
     "end_time": "2020-08-28T07:08:18.955320Z",
     "start_time": "2020-08-28T07:08:18.906419Z"
    },
    "hidden": true
   },
   "outputs": [],
   "source": [
    "def feature_correlation(corr):\n",
    "    count = 1\n",
    "    index = 0\n",
    "    final = pd.DataFrame(columns=[\"column\", \"row\", \"value\"])\n",
    "    \n",
    "\n",
    "    for column in corr.columns:\n",
    "        for row in list(corr.columns)[count:]:\n",
    "            final.loc[index] = [column, row, corr[row][column]]\n",
    "            index += 1\n",
    "        count += 1\n",
    "    return final.sort_values(by=\"value\", ascending=False)"
   ]
  },
  {
   "cell_type": "markdown",
   "metadata": {
    "heading_collapsed": true,
    "toc-hr-collapsed": true,
    "toc-nb-collapsed": true
   },
   "source": [
    "# Missing Data "
   ]
  },
  {
   "cell_type": "markdown",
   "metadata": {
    "hidden": true
   },
   "source": [
    "## Show missing number"
   ]
  },
  {
   "cell_type": "code",
   "execution_count": 1,
   "metadata": {
    "execution": {
     "iopub.execute_input": "2020-10-29T08:13:52.723703Z",
     "iopub.status.busy": "2020-10-29T08:13:52.723703Z",
     "iopub.status.idle": "2020-10-29T08:13:52.739142Z",
     "shell.execute_reply": "2020-10-29T08:13:52.738148Z",
     "shell.execute_reply.started": "2020-10-29T08:13:52.723703Z"
    },
    "hidden": true
   },
   "outputs": [],
   "source": [
    "# return dataframe with columns name(as index), missing number and missing probability and total size\n",
    "# return DataFrame will be sorted descendingly\n",
    "def missing_data(data):\n",
    "    missing = data.isnull().sum()\n",
    "    missing = pd.DataFrame(missing, columns=[\"Missing (\"+str(data.shape[0])+\")\"])\n",
    "    L = len(data)\n",
    "    missing[\"Missing_prob\"] = round(missing / L * 100, 2)\n",
    "    return missing.sort_values(by=\"Missing_prob\", ascending=False)"
   ]
  },
  {
   "cell_type": "markdown",
   "metadata": {
    "hidden": true
   },
   "source": [
    "## Show missing rows"
   ]
  },
  {
   "cell_type": "code",
   "execution_count": 7,
   "metadata": {
    "execution": {
     "iopub.execute_input": "2020-10-29T04:13:40.925557Z",
     "iopub.status.busy": "2020-10-29T04:13:40.924560Z",
     "iopub.status.idle": "2020-10-29T04:13:40.945022Z",
     "shell.execute_reply": "2020-10-29T04:13:40.943825Z",
     "shell.execute_reply.started": "2020-10-29T04:13:40.925557Z"
    },
    "hidden": true
   },
   "outputs": [],
   "source": [
    "null_data = data[data.isnull().any(axis=1)]"
   ]
  },
  {
   "cell_type": "markdown",
   "metadata": {
    "hidden": true,
    "toc-hr-collapsed": true,
    "toc-nb-collapsed": true
   },
   "source": [
    "## Show total missing number"
   ]
  },
  {
   "cell_type": "code",
   "execution_count": 8,
   "metadata": {
    "execution": {
     "iopub.execute_input": "2020-10-29T04:15:01.938352Z",
     "iopub.status.busy": "2020-10-29T04:15:01.937570Z",
     "iopub.status.idle": "2020-10-29T04:15:01.944579Z",
     "shell.execute_reply": "2020-10-29T04:15:01.943827Z",
     "shell.execute_reply.started": "2020-10-29T04:15:01.937570Z"
    },
    "hidden": true
   },
   "outputs": [],
   "source": [
    "data.isnull().any(axis = 1).sum()"
   ]
  },
  {
   "cell_type": "markdown",
   "metadata": {
    "heading_collapsed": true,
    "toc-hr-collapsed": true,
    "toc-nb-collapsed": true
   },
   "source": [
    "# Check value %"
   ]
  },
  {
   "cell_type": "markdown",
   "metadata": {
    "hidden": true
   },
   "source": [
    "## check how much any value present in data"
   ]
  },
  {
   "cell_type": "code",
   "execution_count": 2,
   "metadata": {
    "execution": {
     "iopub.execute_input": "2020-10-29T05:01:24.534634Z",
     "iopub.status.busy": "2020-10-29T05:01:24.533618Z",
     "iopub.status.idle": "2020-10-29T05:01:24.546584Z",
     "shell.execute_reply": "2020-10-29T05:01:24.545585Z",
     "shell.execute_reply.started": "2020-10-29T05:01:24.534634Z"
    },
    "hidden": true
   },
   "outputs": [],
   "source": [
    "def check_perc(X, vals=None):\n",
    "    X_dict = dict(X.value_counts())\n",
    "    if(not vals):\n",
    "        vals = X_dict.keys()\n",
    "    percent = pd.Series(index=vals, name=\"Percent\", dtype=float)\n",
    "    total = pd.Series(index=vals, name=\"Total\", dtype=float)\n",
    "    for val in vals:\n",
    "        if(val in X_dict):\n",
    "            percent[val] = round(X_dict[val]/X.shape[0]*100, 2)\n",
    "            total[val] = X_dict[val]\n",
    "    return pd.concat([percent, total], axis=1)\n",
    "\n",
    "# pass list in {values}"
   ]
  },
  {
   "cell_type": "markdown",
   "metadata": {
    "heading_collapsed": true,
    "toc-hr-collapsed": true,
    "toc-nb-collapsed": true
   },
   "source": [
    "# Imputation"
   ]
  },
  {
   "cell_type": "code",
   "execution_count": null,
   "metadata": {
    "hidden": true
   },
   "outputs": [],
   "source": [
    "positive_data = data[data.Outcome == 1].copy()\n",
    "negative_data = data[data.Outcome == 0].copy()\n",
    "\n",
    "positive_data['Glucose'].fillna(positive_data['Glucose'].mean(), inplace = True)\n",
    "positive_data['BloodPressure'].fillna(positive_data['BloodPressure'].mean(), inplace = True)\n",
    "positive_data['SkinThickness'].fillna(positive_data['SkinThickness'].median(), inplace = True)\n",
    "positive_data['Insulin'].fillna(positive_data['Insulin'].median(), inplace = True)\n",
    "positive_data['BMI'].fillna(positive_data['BMI'].median(), inplace = True)\n",
    "\n",
    "negative_data['Glucose'].fillna(negative_data['Glucose'].mean(), inplace = True)\n",
    "negative_data['BloodPressure'].fillna(negative_data['BloodPressure'].mean(), inplace = True)\n",
    "negative_data['SkinThickness'].fillna(negative_data['SkinThickness'].median(), inplace = True)\n",
    "negative_data['Insulin'].fillna(negative_data['Insulin'].median(), inplace = True)\n",
    "negative_data['BMI'].fillna(negative_data['BMI'].median(), inplace = True)\n",
    "\n",
    "temp_data = pd.concat([positive_data, negative_data])"
   ]
  },
  {
   "cell_type": "markdown",
   "metadata": {
    "heading_collapsed": true,
    "toc-hr-collapsed": true,
    "toc-nb-collapsed": true
   },
   "source": [
    "# Pandas"
   ]
  },
  {
   "cell_type": "code",
   "execution_count": null,
   "metadata": {
    "hidden": true
   },
   "outputs": [],
   "source": [
    "data.describe(include=\"all\")"
   ]
  },
  {
   "cell_type": "code",
   "execution_count": null,
   "metadata": {
    "hidden": true
   },
   "outputs": [],
   "source": []
  }
 ],
 "metadata": {
  "kernelspec": {
   "display_name": "Python 3",
   "language": "python",
   "name": "python3"
  },
  "language_info": {
   "codemirror_mode": {
    "name": "ipython",
    "version": 3
   },
   "file_extension": ".py",
   "mimetype": "text/x-python",
   "name": "python",
   "nbconvert_exporter": "python",
   "pygments_lexer": "ipython3",
   "version": "3.8.3"
  },
  "toc": {
   "base_numbering": 1,
   "nav_menu": {},
   "number_sections": true,
   "sideBar": true,
   "skip_h1_title": false,
   "title_cell": "Table of Contents",
   "title_sidebar": "Contents",
   "toc_cell": false,
   "toc_position": {
    "height": "430px",
    "left": "112px",
    "top": "66px",
    "width": "220px"
   },
   "toc_section_display": true,
   "toc_window_display": true
  },
  "toc-autonumbering": true,
  "toc-showtags": false,
  "varInspector": {
   "cols": {
    "lenName": 16,
    "lenType": 16,
    "lenVar": 40
   },
   "kernels_config": {
    "python": {
     "delete_cmd_postfix": "",
     "delete_cmd_prefix": "del ",
     "library": "var_list.py",
     "varRefreshCmd": "print(var_dic_list())"
    },
    "r": {
     "delete_cmd_postfix": ") ",
     "delete_cmd_prefix": "rm(",
     "library": "var_list.r",
     "varRefreshCmd": "cat(var_dic_list()) "
    }
   },
   "oldHeight": 178.42358000000002,
   "position": {
    "height": "40px",
    "left": "750.198px",
    "right": "20px",
    "top": "10.9792px",
    "width": "250px"
   },
   "types_to_exclude": [
    "module",
    "function",
    "builtin_function_or_method",
    "instance",
    "_Feature"
   ],
   "varInspector_section_display": "none",
   "window_display": false
  }
 },
 "nbformat": 4,
 "nbformat_minor": 4
}
