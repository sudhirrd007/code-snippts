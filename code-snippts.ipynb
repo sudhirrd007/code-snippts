{
 "cells": [
  {
   "cell_type": "markdown",
   "metadata": {
    "heading_collapsed": true,
    "toc-hr-collapsed": true,
    "toc-nb-collapsed": true
   },
   "source": [
    "# Knn"
   ]
  },
  {
   "cell_type": "markdown",
   "metadata": {
    "hidden": true
   },
   "source": [
    "## Important"
   ]
  },
  {
   "cell_type": "code",
   "execution_count": 24,
   "metadata": {
    "hidden": true,
    "tags": []
   },
   "outputs": [],
   "source": [
    "from sklearn.neighbors import KNeighborsClassifier\n",
    "from sklearn.model_selection import cross_val_score\n",
    "\n",
    "### it calculate different metrics on different numbers of k values\n",
    "def dist_metrics(metrics=None, ks=None):\n",
    "    \n",
    "    if(not metrics):\n",
    "        metrics = ['canberra', 'braycurtis', 'chebyshev', 'correlation', 'dice', 'hamming', 'jaccard', 'kulsinski', 'minkowski', 'rogerstanimoto', 'russellrao', 'sokalmichener', 'sokalsneath', 'sqeuclidean']\n",
    "    if(not ks):\n",
    "        ks = [v for v in range(5,80,2)]\n",
    "        \n",
    "    final = {\"k\":ks}\n",
    "\n",
    "    for m in tqdm(metrics):\n",
    "        final[m] = []\n",
    "        for k in ks:\n",
    "            knn = KNeighborsClassifier(k, metric=m);\n",
    "            scores = cross_val_score(knn, X, Y, cv=4)\n",
    "            final[m].append(scores.mean())\n",
    "    return pd.DataFrame(final)\n",
    "# final = dist_metrics(X, Y)\n",
    "\n",
    "#>>> final.mean(axis=0)\n",
    "\n",
    "\n",
    "### It show line graph, comparing different metrics in the context of different score \n",
    "# acording to k values\n",
    "def show_metrics(final):\n",
    "    colors = np.random.rand(1, 4)\n",
    "\n",
    "    for d in final.columns.drop(\"k\"):\n",
    "        plt.plot(np.arange(38), final[d], label=d)\n",
    "\n",
    "    plt.legend(bbox_to_anchor=(1, 1), fancybox=True, shadow=True)\n",
    "    plt.show();\n",
    "# show_metrics(final)"
   ]
  },
  {
   "cell_type": "code",
   "execution_count": 25,
   "metadata": {
    "hidden": true
   },
   "outputs": [],
   "source": [
    "from sklearn.neighbors import KNeighborsClassifier\n",
    "from sklearn.model_selection import train_test_split\n",
    "\n",
    "### if calculate optimal value of k(from given list of k) for each random state(\n",
    "# from given list of random state)\n",
    "def random_state_wise_k(X, Y, random_state=None, ks=None, metric=\"canberra\"):\n",
    "    if(not random_state):\n",
    "        random_state = [s for s in range(100)]\n",
    "\n",
    "    final = {\"random_state\": random_state, \"k\":[], \"score\":[]}\n",
    "    ks = [k for k in range(5,80,2)]\n",
    "\n",
    "    for r in tqdm(random_state):\n",
    "        X_train, X_test, Y_train, Y_test = train_test_split(X, Y, test_size=1/3, random_state=r);\n",
    "        scores = []\n",
    "        for k in ks:\n",
    "            knn = KNeighborsClassifier(n_neighbors=k, metric=metric);\n",
    "            knn.fit(X_train, Y_train);\n",
    "            scores.append(knn.score(X_test, Y_test))\n",
    "        final[\"k\"].append(ks[scores.index(max(scores))])\n",
    "        final[\"score\"].append(max(scores))\n",
    "    final = pd.DataFrame(final).sort_values(by=\"score\", ascending=False)\n",
    "    return final\n",
    "# final = random_state_wise_k(X, Y)\n",
    "\n",
    "#>>> final.k.value_counts()"
   ]
  },
  {
   "cell_type": "code",
   "execution_count": 26,
   "metadata": {
    "hidden": true
   },
   "outputs": [],
   "source": [
    "from sklearn.neighbors import KNeighborsClassifier\n",
    "from sklearn.model_selection import train_test_split\n",
    "\n",
    "### It will calculate score of every givn k values for every given random state\n",
    "def k_wise_scores(X, Y, ks=None, metric=\"canberra\"):\n",
    "    if(not ks):\n",
    "        ks = [k for k in range(5,80,2)]\n",
    "\n",
    "    final = {}\n",
    "    for k in ks:\n",
    "        final[k] = []\n",
    "\n",
    "    for r in tqdm(range(100)):\n",
    "        X_train, X_test, Y_train, Y_test = train_test_split(X, Y, test_size=1/3, random_state=r);\n",
    "        for k in ks:\n",
    "            knn = KNeighborsClassifier(n_neighbors=k, metric=metric);\n",
    "            knn.fit(X_train, Y_train);\n",
    "            final[k].append(knn.score(X_test, Y_test))\n",
    "    final = pd.DataFrame(final)\n",
    "    return final\n",
    "# final = k_wise_scores(X, Y)\n",
    "\n",
    "\n",
    "### it extracts best k value from each k value columns\n",
    "def best_k_randomstate_match(final):\n",
    "    best_match = { \"score\":[], \"k\":[], \"random_state\":[]}\n",
    "\n",
    "    for i in final:\n",
    "        best_match[\"score\"].append(final[i].max())\n",
    "        best_match[\"k\"].append(i)\n",
    "        best_match[\"random_state\"].append(final[i].idxmax())\n",
    "\n",
    "    return pd.DataFrame(final_1).sort_values(by=\"score\", ascending=False)\n",
    "# best_match = best_k_randomstate_match(final)\n",
    "\n",
    "#>>> best_match.random_state.value_counts()"
   ]
  },
  {
   "cell_type": "markdown",
   "metadata": {
    "hidden": true
   },
   "source": [
    "## user defined metrics"
   ]
  },
  {
   "cell_type": "code",
   "execution_count": 28,
   "metadata": {
    "hidden": true
   },
   "outputs": [],
   "source": [
    "def calculate(X, Y):\n",
    "    return np.sum(np.subtract(X, Y)**6)\n",
    "\n",
    "#>>> knn = KNeighborsClassifier(n_neighbors=13, metric=calculate)"
   ]
  },
  {
   "cell_type": "markdown",
   "metadata": {
    "heading_collapsed": true,
    "toc-hr-collapsed": true,
    "toc-nb-collapsed": true
   },
   "source": [
    "# Oversampling and Undersampling"
   ]
  },
  {
   "cell_type": "code",
   "execution_count": 29,
   "metadata": {
    "hidden": true
   },
   "outputs": [],
   "source": [
    "from sklearn.utils import resample\n",
    "\n",
    "def data_sampling(X_train, Y_train, sampling_type=None):\n",
    "    XY_train = pd.concat([X_train, Y_train], axis=1)\n",
    "    \n",
    "    XY_train_0 = XY_train[XY_train[\"Outcome\"] == 0]\n",
    "    XY_train_1 = XY_train[XY_train[\"Outcome\"] == 1]\n",
    "    \n",
    "    if(sampling_type == \"over\"):\n",
    "        XY_train_1_oversampled = resample(XY_train_1, n_samples=XY_train_0.shape[0], replace=True, random_state=0)\n",
    "        combined = pd.concat([XY_train_0, XY_train_1_oversampled])\n",
    "    elif(sampling_type == \"under\"):\n",
    "        XY_train_0_undersampled = resample(XY_train_0, n_samples=XY_train_1.shape[0], replace=True, random_state=0)\n",
    "        combined = pd.concat([XY_train_0_undersampled, XY_train_1])\n",
    "    else:\n",
    "        print(\"Provide {sampling_type} parameter\")\n",
    "    \n",
    "    X_train = combined.iloc[:, :-1]\n",
    "    Y_train = combined.iloc[:, -1]\n",
    "    return X_train, Y_train\n",
    "# X_train, Y_train = data_sampling(X_train, Y_train, sampling_type=\"over\")"
   ]
  },
  {
   "cell_type": "markdown",
   "metadata": {
    "heading_collapsed": true
   },
   "source": [
    "\n",
    "\n",
    "\n",
    "\n",
    "\n",
    "\n",
    "\n",
    "\n",
    "# Matplotlib"
   ]
  },
  {
   "cell_type": "markdown",
   "metadata": {
    "hidden": true
   },
   "source": [
    "## Styles available"
   ]
  },
  {
   "cell_type": "markdown",
   "metadata": {
    "hidden": true
   },
   "source": [
    " "
   ]
  },
  {
   "cell_type": "code",
   "execution_count": 30,
   "metadata": {
    "code_folding": [
     2
    ],
    "hidden": true
   },
   "outputs": [],
   "source": [
    "import matplotlib.pyplot as plt\n",
    "plt.style.available\n",
    "['Solarize_Light2',\n",
    " '_classic_test_patch',\n",
    " 'bmh',\n",
    " 'classic',\n",
    " 'dark_background',\n",
    " 'fast',\n",
    " 'fivethirtyeight',\n",
    " 'ggplot',\n",
    " 'grayscale',\n",
    " 'seaborn',\n",
    " 'seaborn-bright',\n",
    " 'seaborn-colorblind',\n",
    " 'seaborn-dark',\n",
    " 'seaborn-dark-palette',\n",
    " 'seaborn-darkgrid',\n",
    " 'seaborn-deep',\n",
    " 'seaborn-muted',\n",
    " 'seaborn-notebook',\n",
    " 'seaborn-paper',\n",
    " 'seaborn-pastel',\n",
    " 'seaborn-poster',\n",
    " 'seaborn-talk',\n",
    " 'seaborn-ticks',\n",
    " 'seaborn-white',\n",
    " 'seaborn-whitegrid',\n",
    " 'tableau-colorblind10'];"
   ]
  },
  {
   "cell_type": "markdown",
   "metadata": {
    "hidden": true
   },
   "source": [
    "## Half Heatmap"
   ]
  },
  {
   "cell_type": "code",
   "execution_count": 31,
   "metadata": {
    "hidden": true
   },
   "outputs": [
    {
     "ename": "NameError",
     "evalue": "name 'data' is not defined",
     "output_type": "error",
     "traceback": [
      "\u001b[0;31m---------------------------------------------------------------------------\u001b[0m",
      "\u001b[0;31mNameError\u001b[0m                                 Traceback (most recent call last)",
      "\u001b[0;32m<ipython-input-31-016a1480fe55>\u001b[0m in \u001b[0;36m<module>\u001b[0;34m\u001b[0m\n\u001b[0;32m----> 1\u001b[0;31m \u001b[0mcorr\u001b[0m \u001b[0;34m=\u001b[0m \u001b[0mdata\u001b[0m\u001b[0;34m.\u001b[0m\u001b[0mcorr\u001b[0m\u001b[0;34m(\u001b[0m\u001b[0;34m)\u001b[0m\u001b[0;34m\u001b[0m\u001b[0;34m\u001b[0m\u001b[0m\n\u001b[0m\u001b[1;32m      2\u001b[0m \u001b[0mmask\u001b[0m \u001b[0;34m=\u001b[0m \u001b[0mnp\u001b[0m\u001b[0;34m.\u001b[0m\u001b[0mzeros_like\u001b[0m\u001b[0;34m(\u001b[0m\u001b[0mcorr\u001b[0m\u001b[0;34m)\u001b[0m\u001b[0;34m\u001b[0m\u001b[0;34m\u001b[0m\u001b[0m\n\u001b[1;32m      3\u001b[0m \u001b[0mmask\u001b[0m\u001b[0;34m[\u001b[0m\u001b[0mnp\u001b[0m\u001b[0;34m.\u001b[0m\u001b[0mtriu_indices_from\u001b[0m\u001b[0;34m(\u001b[0m\u001b[0mmask\u001b[0m\u001b[0;34m)\u001b[0m\u001b[0;34m]\u001b[0m \u001b[0;34m=\u001b[0m \u001b[0;32mTrue\u001b[0m\u001b[0;34m\u001b[0m\u001b[0;34m\u001b[0m\u001b[0m\n\u001b[1;32m      4\u001b[0m \u001b[0;34m\u001b[0m\u001b[0m\n\u001b[1;32m      5\u001b[0m \u001b[0mfig\u001b[0m \u001b[0;34m=\u001b[0m \u001b[0mplt\u001b[0m\u001b[0;34m.\u001b[0m\u001b[0mgcf\u001b[0m\u001b[0;34m(\u001b[0m\u001b[0;34m)\u001b[0m\u001b[0;34m\u001b[0m\u001b[0;34m\u001b[0m\u001b[0m\n",
      "\u001b[0;31mNameError\u001b[0m: name 'data' is not defined"
     ]
    }
   ],
   "source": [
    "corr = data.corr()\n",
    "mask = np.zeros_like(corr)\n",
    "mask[np.triu_indices_from(mask)] = True\n",
    "\n",
    "fig = plt.gcf()\n",
    "fig.set_size_inches(8, 5)\n",
    "sns.heatmap(corr, mask=mask, annot=True, cmap=\"coolwarm\", center=0, vmin=-1, vmax=1)"
   ]
  },
  {
   "cell_type": "markdown",
   "metadata": {
    "hidden": true
   },
   "source": [
    "## Bar chart"
   ]
  },
  {
   "cell_type": "code",
   "execution_count": 32,
   "metadata": {
    "hidden": true
   },
   "outputs": [],
   "source": [
    "def bar_chart(data):\n",
    "    unique = data.value_counts()\n",
    "\n",
    "    colors = np.random.rand(len(unique), 3)\n",
    "    fig = plt.gcf()\n",
    "    fig.set_size_inches(3, 4)\n",
    "\n",
    "    ax = unique.plot(kind='bar', fontsize=13, color=colors)\n",
    "    plt.ylim(0, data.shape[0])\n",
    "    plt.xticks(rotation=0, fontsize=15)\n",
    "\n",
    "    for p in ax.patches:\n",
    "        ax.annotate(str(p.get_height()), (p.get_x(), p.get_height()), size=15)\n",
    "    plt.show()"
   ]
  },
  {
   "cell_type": "markdown",
   "metadata": {
    "heading_collapsed": true,
    "toc-hr-collapsed": true,
    "toc-nb-collapsed": true
   },
   "source": [
    "# Feature Correlation"
   ]
  },
  {
   "cell_type": "code",
   "execution_count": 34,
   "metadata": {
    "ExecuteTime": {
     "end_time": "2020-08-28T07:08:18.955320Z",
     "start_time": "2020-08-28T07:08:18.906419Z"
    },
    "hidden": true
   },
   "outputs": [],
   "source": [
    "def feature_correlation(corr):\n",
    "    count = 1\n",
    "    index = 0\n",
    "    final = pd.DataFrame(columns=[\"column\", \"row\", \"value\"])\n",
    "    \n",
    "\n",
    "    for column in corr.columns:\n",
    "        for row in list(corr.columns)[count:]:\n",
    "            final.loc[index] = [column, row, corr[row][column]]\n",
    "            index += 1\n",
    "        count += 1\n",
    "    return final.sort_values(by=\"value\", ascending=False)"
   ]
  }
 ],
 "metadata": {
  "kernelspec": {
   "display_name": "Python 3",
   "language": "python",
   "name": "python3"
  },
  "language_info": {
   "codemirror_mode": {
    "name": "ipython",
    "version": 3
   },
   "file_extension": ".py",
   "mimetype": "text/x-python",
   "name": "python",
   "nbconvert_exporter": "python",
   "pygments_lexer": "ipython3",
   "version": "3.8.5"
  },
  "toc": {
   "base_numbering": 1,
   "nav_menu": {},
   "number_sections": true,
   "sideBar": true,
   "skip_h1_title": false,
   "title_cell": "Table of Contents",
   "title_sidebar": "Contents",
   "toc_cell": true,
   "toc_position": {
    "height": "430px",
    "left": "112px",
    "top": "66px",
    "width": "220px"
   },
   "toc_section_display": true,
   "toc_window_display": true
  },
  "toc-autonumbering": false,
  "toc-showtags": false,
  "varInspector": {
   "cols": {
    "lenName": 16,
    "lenType": 16,
    "lenVar": 40
   },
   "kernels_config": {
    "python": {
     "delete_cmd_postfix": "",
     "delete_cmd_prefix": "del ",
     "library": "var_list.py",
     "varRefreshCmd": "print(var_dic_list())"
    },
    "r": {
     "delete_cmd_postfix": ") ",
     "delete_cmd_prefix": "rm(",
     "library": "var_list.r",
     "varRefreshCmd": "cat(var_dic_list()) "
    }
   },
   "oldHeight": 178.42358000000002,
   "position": {
    "height": "40px",
    "left": "750.198px",
    "right": "20px",
    "top": "10.9792px",
    "width": "250px"
   },
   "types_to_exclude": [
    "module",
    "function",
    "builtin_function_or_method",
    "instance",
    "_Feature"
   ],
   "varInspector_section_display": "none",
   "window_display": false
  }
 },
 "nbformat": 4,
 "nbformat_minor": 4
}
