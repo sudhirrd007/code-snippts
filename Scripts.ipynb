{
 "cells": [
  {
   "cell_type": "markdown",
   "metadata": {},
   "source": [
    "# Missing"
   ]
  },
  {
   "cell_type": "code",
   "execution_count": 2,
   "metadata": {},
   "outputs": [],
   "source": [
    "def missing_count(df):\n",
    "    L = len(df)\n",
    "    ms = df.isnull().sum()\n",
    "    ms = pd.DataFrame(ms, columns=[\"Missing (\"+str(L)+\")\"])\n",
    "    ms[\"Missing(%)\"] = round(ms / L * 100, 2)\n",
    "    ms[\"Dtypes\"] = df.dtypes\n",
    "    return ms.sort_values(by=\"Missing(%)\", ascending=False)"
   ]
  },
  {
   "cell_type": "code",
   "execution_count": null,
   "metadata": {},
   "outputs": [],
   "source": [
    "df[df.isnull().any(axis=1)]"
   ]
  },
  {
   "cell_type": "markdown",
   "metadata": {},
   "source": [
    "# Class Percent"
   ]
  },
  {
   "cell_type": "code",
   "execution_count": 3,
   "metadata": {},
   "outputs": [],
   "source": [
    "def class_percent(Y):\n",
    "    L = len(Y)\n",
    "    values = Y.value_counts()\n",
    "    df = {\"Value\":[], \"Total\":[], \"Count\":[], \"Count(perc)\":[]}\n",
    "    for val,count in values.items():\n",
    "        df[\"Value\"].append(val)\n",
    "        df[\"Total\"].append(L)\n",
    "        df[\"Count\"].append(count)\n",
    "        df[\"Count(perc)\"].append(round(count/L*100, 3))\n",
    "    df = pd.DataFrame(df)\n",
    "    return df"
   ]
  },
  {
   "cell_type": "markdown",
   "metadata": {},
   "source": [
    "# Unique Labels"
   ]
  },
  {
   "cell_type": "code",
   "execution_count": 1,
   "metadata": {},
   "outputs": [],
   "source": [
    "def unique_lebels(X, columns=None):\n",
    "    if(not columns):\n",
    "        columns = X.columns\n",
    "    df = {\"name\": columns, \"total\":[len(X)]*X.shape[1], \"unique_labels\":[]}\n",
    "    for i in columns:\n",
    "        df[\"unique_labels\"].append(X[i].unique().size)\n",
    "    df = pd.DataFrame(df)\n",
    "    return df"
   ]
  },
  {
   "cell_type": "code",
   "execution_count": null,
   "metadata": {},
   "outputs": [],
   "source": []
  }
 ],
 "metadata": {
  "kernelspec": {
   "display_name": "Python 3",
   "language": "python",
   "name": "python3"
  },
  "language_info": {
   "codemirror_mode": {
    "name": "ipython",
    "version": 3
   },
   "file_extension": ".py",
   "mimetype": "text/x-python",
   "name": "python",
   "nbconvert_exporter": "python",
   "pygments_lexer": "ipython3",
   "version": "3.8.5"
  },
  "toc-autonumbering": true
 },
 "nbformat": 4,
 "nbformat_minor": 4
}
