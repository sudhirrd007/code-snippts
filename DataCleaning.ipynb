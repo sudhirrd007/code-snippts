{
 "cells": [
  {
   "cell_type": "markdown",
   "id": "expanded-combat",
   "metadata": {},
   "source": [
    "# Outliers"
   ]
  },
  {
   "cell_type": "code",
   "execution_count": null,
   "id": "better-professor",
   "metadata": {},
   "outputs": [],
   "source": [
    "\"\"\" DataFrame divided into 2 parts : inliners and outliners \"\"\"\n",
    "from sklearn.neighbors import LocalOutlierFactor\n",
    "lof = LocalOutlierFactor(n_neighbors=20)\n",
    "df_ = lof.fit_predict(df)\n",
    "df_ = pd.Series(df_, index=df.index)\n",
    "inliers = df_[df_ == 1]\n",
    "oulliers = df_[df_ == -1]"
   ]
  },
  {
   "cell_type": "code",
   "execution_count": null,
   "id": "unsigned-probe",
   "metadata": {},
   "outputs": [],
   "source": []
  }
 ],
 "metadata": {
  "kernelspec": {
   "display_name": "Python 3",
   "language": "python",
   "name": "python3"
  },
  "language_info": {
   "codemirror_mode": {
    "name": "ipython",
    "version": 3
   },
   "file_extension": ".py",
   "mimetype": "text/x-python",
   "name": "python",
   "nbconvert_exporter": "python",
   "pygments_lexer": "ipython3",
   "version": "3.8.5"
  }
 },
 "nbformat": 4,
 "nbformat_minor": 5
}
