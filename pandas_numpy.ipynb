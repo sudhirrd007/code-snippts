{
 "cells": [
  {
   "cell_type": "markdown",
   "id": "precious-iraqi",
   "metadata": {},
   "source": [
    "# Basic Operations"
   ]
  },
  {
   "cell_type": "markdown",
   "id": "prescription-clinton",
   "metadata": {},
   "source": [
    "## Rename"
   ]
  },
  {
   "cell_type": "code",
   "execution_count": null,
   "id": "turned-limitation",
   "metadata": {},
   "outputs": [],
   "source": [
    "df.rename(columns = {'test':'TEST'}, inplace = True) "
   ]
  },
  {
   "cell_type": "markdown",
   "id": "private-ordering",
   "metadata": {},
   "source": [
    "## Replace"
   ]
  },
  {
   "cell_type": "code",
   "execution_count": null,
   "id": "attached-doctrine",
   "metadata": {},
   "outputs": [],
   "source": [
    "df[\"workclass\"].replace(\"?\", np.NaN, inplace=True)"
   ]
  },
  {
   "cell_type": "markdown",
   "id": "level-incident",
   "metadata": {},
   "source": [
    "## is null"
   ]
  },
  {
   "cell_type": "code",
   "execution_count": null,
   "id": "surprising-application",
   "metadata": {},
   "outputs": [],
   "source": [
    "df.isnull().sum()"
   ]
  },
  {
   "cell_type": "markdown",
   "id": "comparable-escape",
   "metadata": {},
   "source": [
    "## Combine"
   ]
  },
  {
   "cell_type": "raw",
   "id": "persistent-athletics",
   "metadata": {},
   "source": [
    "while combing series, first set index of all series same"
   ]
  },
  {
   "cell_type": "code",
   "execution_count": null,
   "id": "italic-circle",
   "metadata": {},
   "outputs": [],
   "source": []
  },
  {
   "cell_type": "code",
   "execution_count": null,
   "id": "silver-dealer",
   "metadata": {},
   "outputs": [],
   "source": []
  },
  {
   "cell_type": "code",
   "execution_count": null,
   "id": "settled-impossible",
   "metadata": {},
   "outputs": [],
   "source": []
  },
  {
   "cell_type": "code",
   "execution_count": null,
   "id": "experienced-arena",
   "metadata": {},
   "outputs": [],
   "source": []
  }
 ],
 "metadata": {
  "kernelspec": {
   "display_name": "Python 3",
   "language": "python",
   "name": "python3"
  },
  "language_info": {
   "codemirror_mode": {
    "name": "ipython",
    "version": 3
   },
   "file_extension": ".py",
   "mimetype": "text/x-python",
   "name": "python",
   "nbconvert_exporter": "python",
   "pygments_lexer": "ipython3",
   "version": "3.8.5"
  },
  "toc-autonumbering": true,
  "toc-showcode": false,
  "toc-showmarkdowntxt": false
 },
 "nbformat": 4,
 "nbformat_minor": 5
}
