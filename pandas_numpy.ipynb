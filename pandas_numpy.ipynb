{
 "cells": [
  {
   "cell_type": "markdown",
   "id": "filled-conversation",
   "metadata": {},
   "source": [
    "# Basic Operations"
   ]
  },
  {
   "cell_type": "markdown",
   "id": "italic-blowing",
   "metadata": {},
   "source": [
    "## Multiline Comment"
   ]
  },
  {
   "cell_type": "code",
   "execution_count": null,
   "id": "bulgarian-afternoon",
   "metadata": {},
   "outputs": [],
   "source": [
    "def MultiResults(flag=True):\n",
    "    from IPython.core.interactiveshell import InteractiveShell\n",
    "    InteractiveShell.ast_node_interactivity = \"all\" if flag==True else \"last_expr\"\n",
    "MultiResults(True)"
   ]
  },
  {
   "cell_type": "markdown",
   "id": "fiscal-collins",
   "metadata": {},
   "source": [
    "## Rename"
   ]
  },
  {
   "cell_type": "code",
   "execution_count": null,
   "id": "disciplinary-native",
   "metadata": {},
   "outputs": [],
   "source": [
    "df.rename(columns = {'test':'TEST'}, inplace = True) "
   ]
  },
  {
   "cell_type": "markdown",
   "id": "quick-logan",
   "metadata": {},
   "source": [
    "## Replace"
   ]
  },
  {
   "cell_type": "code",
   "execution_count": null,
   "id": "rolled-behalf",
   "metadata": {},
   "outputs": [],
   "source": [
    "df[\"workclass\"].replace(\"?\", np.NaN, inplace=True)"
   ]
  },
  {
   "cell_type": "markdown",
   "id": "comfortable-application",
   "metadata": {},
   "source": [
    "## is null"
   ]
  },
  {
   "cell_type": "code",
   "execution_count": null,
   "id": "ambient-dollar",
   "metadata": {},
   "outputs": [],
   "source": [
    "df.isnull().sum()"
   ]
  },
  {
   "cell_type": "markdown",
   "id": "liked-russell",
   "metadata": {},
   "source": [
    "## Combine"
   ]
  },
  {
   "cell_type": "raw",
   "id": "representative-failing",
   "metadata": {},
   "source": [
    "while combing series, first set index of all series same"
   ]
  },
  {
   "cell_type": "markdown",
   "id": "regulation-speech",
   "metadata": {},
   "source": [
    "## To csv"
   ]
  },
  {
   "cell_type": "code",
   "execution_count": null,
   "id": "elementary-magnitude",
   "metadata": {},
   "outputs": [],
   "source": [
    "df.to_csv(\"test.csv\", index=False)"
   ]
  },
  {
   "cell_type": "markdown",
   "id": "governmental-graham",
   "metadata": {},
   "source": [
    "# Intermediate"
   ]
  },
  {
   "cell_type": "markdown",
   "id": "private-nightlife",
   "metadata": {},
   "source": [
    "## format of values(DataFrame)"
   ]
  },
  {
   "cell_type": "code",
   "execution_count": null,
   "id": "breathing-cleaners",
   "metadata": {},
   "outputs": [],
   "source": [
    "pd.options.display.float_format = '{:,.3f}'.format\n",
    "\n",
    "def fn(x):\n",
    "      return int(x) if(x%1 == 0) else \"{:.2f}\".format(x)\n",
    "dg.style.format(fn)"
   ]
  },
  {
   "cell_type": "code",
   "execution_count": null,
   "id": "domestic-national",
   "metadata": {},
   "outputs": [],
   "source": []
  }
 ],
 "metadata": {
  "kernelspec": {
   "display_name": "Python 3",
   "language": "python",
   "name": "python3"
  },
  "language_info": {
   "codemirror_mode": {
    "name": "ipython",
    "version": 3
   },
   "file_extension": ".py",
   "mimetype": "text/x-python",
   "name": "python",
   "nbconvert_exporter": "python",
   "pygments_lexer": "ipython3",
   "version": "3.8.5"
  },
  "toc-autonumbering": true,
  "toc-showcode": false,
  "toc-showmarkdowntxt": false
 },
 "nbformat": 4,
 "nbformat_minor": 5
}
