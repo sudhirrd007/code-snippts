{
 "cells": [
  {
   "cell_type": "markdown",
   "id": "technological-tiffany",
   "metadata": {},
   "source": [
    "# Basic Operations"
   ]
  },
  {
   "cell_type": "markdown",
   "id": "younger-begin",
   "metadata": {},
   "source": [
    "## Multiline Comment"
   ]
  },
  {
   "cell_type": "code",
   "execution_count": null,
   "id": "otherwise-rolling",
   "metadata": {},
   "outputs": [],
   "source": [
    "def MultiResults(flag=True):\n",
    "    from IPython.core.interactiveshell import InteractiveShell\n",
    "    InteractiveShell.ast_node_interactivity = \"all\" if flag==True else \"last_expr\"\n",
    "MultiResults(True)"
   ]
  },
  {
   "cell_type": "markdown",
   "id": "graphic-appreciation",
   "metadata": {},
   "source": [
    "## Rename"
   ]
  },
  {
   "cell_type": "code",
   "execution_count": null,
   "id": "complete-seven",
   "metadata": {},
   "outputs": [],
   "source": [
    "df.rename(columns = {'test':'TEST'}, inplace = True) "
   ]
  },
  {
   "cell_type": "markdown",
   "id": "classical-crawford",
   "metadata": {},
   "source": [
    "## Replace"
   ]
  },
  {
   "cell_type": "code",
   "execution_count": null,
   "id": "minimal-techno",
   "metadata": {},
   "outputs": [],
   "source": [
    "df[\"workclass\"].replace(\"?\", np.NaN, inplace=True)"
   ]
  },
  {
   "cell_type": "markdown",
   "id": "sized-watershed",
   "metadata": {},
   "source": [
    "## is null"
   ]
  },
  {
   "cell_type": "code",
   "execution_count": null,
   "id": "defined-graphics",
   "metadata": {},
   "outputs": [],
   "source": [
    "df.isnull().sum()"
   ]
  },
  {
   "cell_type": "markdown",
   "id": "imperial-impossible",
   "metadata": {},
   "source": [
    "## Combine"
   ]
  },
  {
   "cell_type": "raw",
   "id": "backed-haiti",
   "metadata": {},
   "source": [
    "while combing series, first set index of all series same"
   ]
  },
  {
   "cell_type": "markdown",
   "id": "comprehensive-price",
   "metadata": {},
   "source": [
    "## To csv"
   ]
  },
  {
   "cell_type": "code",
   "execution_count": null,
   "id": "fresh-warren",
   "metadata": {},
   "outputs": [],
   "source": [
    "df.to_csv(\"test.csv\", index=False)"
   ]
  },
  {
   "cell_type": "markdown",
   "id": "touched-board",
   "metadata": {},
   "source": [
    "# Intermediate"
   ]
  },
  {
   "cell_type": "markdown",
   "id": "soviet-florist",
   "metadata": {},
   "source": [
    "## format of values(DataFrame)"
   ]
  },
  {
   "cell_type": "code",
   "execution_count": null,
   "id": "august-investment",
   "metadata": {},
   "outputs": [],
   "source": [
    "pd.options.display.float_format = '{:,.3f}'.format\n",
    "\n",
    "def fn(x):\n",
    "      return int(x) if(x%1 == 0) else \"{:.2f}\".format(x)\n",
    "dg.style.format(fn)"
   ]
  },
  {
   "cell_type": "code",
   "execution_count": null,
   "id": "liquid-opportunity",
   "metadata": {},
   "outputs": [],
   "source": []
  },
  {
   "cell_type": "code",
   "execution_count": null,
   "id": "amino-puzzle",
   "metadata": {},
   "outputs": [],
   "source": []
  },
  {
   "cell_type": "code",
   "execution_count": null,
   "id": "documentary-processing",
   "metadata": {},
   "outputs": [],
   "source": []
  },
  {
   "cell_type": "markdown",
   "id": "caroline-style",
   "metadata": {},
   "source": [
    "# KNN"
   ]
  },
  {
   "cell_type": "code",
   "execution_count": 1,
   "id": "interested-choice",
   "metadata": {},
   "outputs": [],
   "source": [
    "from sklearn.neighbors import KNeighborsClassifier\n",
    "from sklearn.model_selection import cross_val_score\n",
    "\n",
    "### it calculate different metrics on different numbers of k values\n",
    "def dist_metrics(metrics=None, ks=None):\n",
    "    \n",
    "    if(not metrics):\n",
    "        metrics = ['canberra', 'braycurtis', 'chebyshev', 'correlation', 'dice', 'hamming', 'jaccard', 'kulsinski', 'minkowski', 'rogerstanimoto', 'russellrao', 'sokalmichener', 'sokalsneath', 'sqeuclidean']\n",
    "    if(not ks):\n",
    "        ks = [v for v in range(5,80,2)]\n",
    "        \n",
    "    final = {\"k\":ks}\n",
    "\n",
    "    for m in tqdm(metrics):\n",
    "        final[m] = []\n",
    "        for k in ks:\n",
    "            knn = KNeighborsClassifier(k, metric=m);\n",
    "            scores = cross_val_score(knn, X, Y, cv=4)\n",
    "            final[m].append(scores.mean())\n",
    "    return pd.DataFrame(final)\n",
    "# final = dist_metrics(X, Y)\n",
    "\n",
    "#>>> final.mean(axis=0)\n",
    "\n",
    "\n",
    "### It show line graph, comparing different metrics in the context of different score \n",
    "# acording to k values\n",
    "def show_metrics(final):\n",
    "    colors = np.random.rand(1, 4)\n",
    "\n",
    "    for d in final.columns.drop(\"k\"):\n",
    "        plt.plot(np.arange(38), final[d], label=d)\n",
    "\n",
    "    plt.legend(bbox_to_anchor=(1, 1), fancybox=True, shadow=True)\n",
    "    plt.show();\n",
    "# show_metrics(final)"
   ]
  },
  {
   "cell_type": "code",
   "execution_count": 2,
   "id": "broad-match",
   "metadata": {},
   "outputs": [],
   "source": [
    "from sklearn.neighbors import KNeighborsClassifier\n",
    "from sklearn.model_selection import train_test_split\n",
    "\n",
    "### if calculate optimal value of k(from given list of k) for each random state(\n",
    "# from given list of random state)\n",
    "def random_state_wise_k(X, Y, random_state=None, ks=None, metric=\"canberra\"):\n",
    "    if(not random_state):\n",
    "        random_state = [s for s in range(100)]\n",
    "\n",
    "    final = {\"random_state\": random_state, \"k\":[], \"score\":[]}\n",
    "    ks = [k for k in range(5,80,2)]\n",
    "\n",
    "    for r in tqdm(random_state):\n",
    "        X_train, X_test, Y_train, Y_test = train_test_split(X, Y, test_size=1/3, random_state=r);\n",
    "        scores = []\n",
    "        for k in ks:\n",
    "            knn = KNeighborsClassifier(n_neighbors=k, metric=metric);\n",
    "            knn.fit(X_train, Y_train);\n",
    "            scores.append(knn.score(X_test, Y_test))\n",
    "        final[\"k\"].append(ks[scores.index(max(scores))])\n",
    "        final[\"score\"].append(max(scores))\n",
    "    final = pd.DataFrame(final).sort_values(by=\"score\", ascending=False)\n",
    "    return final\n",
    "# final = random_state_wise_k(X, Y)\n",
    "\n",
    "#>>> final.k.value_counts()"
   ]
  },
  {
   "cell_type": "code",
   "execution_count": 3,
   "id": "marked-guarantee",
   "metadata": {},
   "outputs": [],
   "source": [
    "from sklearn.neighbors import KNeighborsClassifier\n",
    "from sklearn.model_selection import train_test_split\n",
    "\n",
    "### It will calculate score of every givn k values for every given random state\n",
    "def k_wise_scores(X, Y, ks=None, metric=\"canberra\"):\n",
    "    if(not ks):\n",
    "        ks = [k for k in range(5,80,2)]\n",
    "\n",
    "    final = {}\n",
    "    for k in ks:\n",
    "        final[k] = []\n",
    "\n",
    "    for r in tqdm(range(100)):\n",
    "        X_train, X_test, Y_train, Y_test = train_test_split(X, Y, test_size=1/3, random_state=r);\n",
    "        for k in ks:\n",
    "            knn = KNeighborsClassifier(n_neighbors=k, metric=metric);\n",
    "            knn.fit(X_train, Y_train);\n",
    "            final[k].append(knn.score(X_test, Y_test))\n",
    "    final = pd.DataFrame(final)\n",
    "    return final\n",
    "# final = k_wise_scores(X, Y)\n",
    "\n",
    "\n",
    "### it extracts best k value from each k value columns\n",
    "def best_k_randomstate_match(final):\n",
    "    best_match = { \"score\":[], \"k\":[], \"random_state\":[]}\n",
    "\n",
    "    for i in final:\n",
    "        best_match[\"score\"].append(final[i].max())\n",
    "        best_match[\"k\"].append(i)\n",
    "        best_match[\"random_state\"].append(final[i].idxmax())\n",
    "\n",
    "    return pd.DataFrame(final_1).sort_values(by=\"score\", ascending=False)\n",
    "# best_match = best_k_randomstate_match(final)\n",
    "\n",
    "#>>> best_match.random_state.value_counts()"
   ]
  },
  {
   "cell_type": "markdown",
   "id": "solid-trouble",
   "metadata": {},
   "source": [
    "# user defined metrics"
   ]
  },
  {
   "cell_type": "code",
   "execution_count": 4,
   "id": "painful-romantic",
   "metadata": {},
   "outputs": [],
   "source": [
    "def calculate(X, Y):\n",
    "    return np.sum(np.subtract(X, Y)**6)\n",
    "\n",
    "#>>> knn = KNeighborsClassifier(n_neighbors=13, metric=calculate)"
   ]
  },
  {
   "cell_type": "markdown",
   "id": "extensive-matter",
   "metadata": {},
   "source": [
    "# Oversampling and Undersampling"
   ]
  },
  {
   "cell_type": "code",
   "execution_count": 5,
   "id": "proud-naples",
   "metadata": {},
   "outputs": [],
   "source": [
    "from sklearn.utils import resample\n",
    "\n",
    "def data_sampling(X_train, Y_train, sampling_type=None):\n",
    "    XY_train = pd.concat([X_train, Y_train], axis=1)\n",
    "    \n",
    "    XY_train_0 = XY_train[XY_train[\"Outcome\"] == 0]\n",
    "    XY_train_1 = XY_train[XY_train[\"Outcome\"] == 1]\n",
    "    \n",
    "    if(sampling_type == \"over\"):\n",
    "        XY_train_1_oversampled = resample(XY_train_1, n_samples=XY_train_0.shape[0], replace=True, random_state=0)\n",
    "        combined = pd.concat([XY_train_0, XY_train_1_oversampled])\n",
    "    elif(sampling_type == \"under\"):\n",
    "        XY_train_0_undersampled = resample(XY_train_0, n_samples=XY_train_1.shape[0], replace=True, random_state=0)\n",
    "        combined = pd.concat([XY_train_0_undersampled, XY_train_1])\n",
    "    else:\n",
    "        print(\"Provide {sampling_type} parameter\")\n",
    "    \n",
    "    X_train = combined.iloc[:, :-1]\n",
    "    Y_train = combined.iloc[:, -1]\n",
    "    return X_train, Y_train\n",
    "# X_train, Y_train = data_sampling(X_train, Y_train, sampling_type=\"over\")"
   ]
  },
  {
   "cell_type": "markdown",
   "id": "brave-council",
   "metadata": {},
   "source": [
    "# Matplotlib"
   ]
  },
  {
   "cell_type": "code",
   "execution_count": 6,
   "id": "great-blond",
   "metadata": {},
   "outputs": [],
   "source": [
    "import matplotlib.pyplot as plt\n",
    "plt.style.available\n",
    "['Solarize_Light2',\n",
    " '_classic_test_patch',\n",
    " 'bmh',\n",
    " 'classic',\n",
    " 'dark_background',\n",
    " 'fast',\n",
    " 'fivethirtyeight',\n",
    " 'ggplot',\n",
    " 'grayscale',\n",
    " 'seaborn',\n",
    " 'seaborn-bright',\n",
    " 'seaborn-colorblind',\n",
    " 'seaborn-dark',\n",
    " 'seaborn-dark-palette',\n",
    " 'seaborn-darkgrid',\n",
    " 'seaborn-deep',\n",
    " 'seaborn-muted',\n",
    " 'seaborn-notebook',\n",
    " 'seaborn-paper',\n",
    " 'seaborn-pastel',\n",
    " 'seaborn-poster',\n",
    " 'seaborn-talk',\n",
    " 'seaborn-ticks',\n",
    " 'seaborn-white',\n",
    " 'seaborn-whitegrid',\n",
    " 'tableau-colorblind10'];"
   ]
  },
  {
   "cell_type": "markdown",
   "id": "colored-listing",
   "metadata": {},
   "source": [
    "## Half Heatmap"
   ]
  },
  {
   "cell_type": "code",
   "execution_count": null,
   "id": "ideal-niagara",
   "metadata": {},
   "outputs": [],
   "source": [
    "corr = data.corr()\n",
    "mask = np.zeros_like(corr)\n",
    "mask[np.triu_indices_from(mask)] = True\n",
    "\n",
    "fig = plt.gcf()\n",
    "fig.set_size_inches(8, 5)\n",
    "sns.heatmap(corr, mask=mask, annot=True, cmap=\"coolwarm\", center=0, vmin=-1, vmax=1)"
   ]
  },
  {
   "cell_type": "markdown",
   "id": "future-print",
   "metadata": {},
   "source": [
    "## Bar chart"
   ]
  },
  {
   "cell_type": "code",
   "execution_count": null,
   "id": "friendly-liver",
   "metadata": {},
   "outputs": [],
   "source": [
    "def bar_chart(data):\n",
    "    unique = data.value_counts()\n",
    "\n",
    "    colors = np.random.rand(len(unique), 3)\n",
    "    fig = plt.gcf()\n",
    "    fig.set_size_inches(3, 4)\n",
    "\n",
    "    ax = unique.plot(kind='bar', fontsize=13, color=colors)\n",
    "    plt.ylim(0, data.shape[0])\n",
    "    plt.xticks(rotation=0, fontsize=15)\n",
    "\n",
    "    for p in ax.patches:\n",
    "        ax.annotate(str(p.get_height()), (p.get_x(), p.get_height()), size=15)\n",
    "    plt.show()"
   ]
  },
  {
   "cell_type": "markdown",
   "id": "automotive-placement",
   "metadata": {},
   "source": [
    "# Feature Correlation"
   ]
  },
  {
   "cell_type": "code",
   "execution_count": 8,
   "id": "nasty-waterproof",
   "metadata": {},
   "outputs": [],
   "source": [
    "def feature_correlation(corr):\n",
    "    count = 1\n",
    "    index = 0\n",
    "    final = pd.DataFrame(columns=[\"column\", \"row\", \"value\"])\n",
    "    \n",
    "\n",
    "    for column in corr.columns:\n",
    "        for row in list(corr.columns)[count:]:\n",
    "            final.loc[index] = [column, row, corr[row][column]]\n",
    "            index += 1\n",
    "        count += 1\n",
    "    return final.sort_values(by=\"value\", ascending=False)"
   ]
  },
  {
   "cell_type": "code",
   "execution_count": null,
   "id": "assigned-graduation",
   "metadata": {},
   "outputs": [],
   "source": []
  }
 ],
 "metadata": {
  "kernelspec": {
   "display_name": "Python 3",
   "language": "python",
   "name": "python3"
  },
  "language_info": {
   "codemirror_mode": {
    "name": "ipython",
    "version": 3
   },
   "file_extension": ".py",
   "mimetype": "text/x-python",
   "name": "python",
   "nbconvert_exporter": "python",
   "pygments_lexer": "ipython3",
   "version": "3.8.5"
  },
  "toc-autonumbering": true,
  "toc-showcode": false,
  "toc-showmarkdowntxt": false
 },
 "nbformat": 4,
 "nbformat_minor": 5
}
